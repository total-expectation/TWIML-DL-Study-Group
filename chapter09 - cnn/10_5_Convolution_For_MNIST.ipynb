{
 "cells": [
  {
   "cell_type": "markdown",
   "metadata": {
    "colab_type": "text",
    "id": "view-in-github"
   },
   "source": [
    "<a href=\"https://colab.research.google.com/github/udlbook/udlbook/blob/main/Notebooks/Chap10/10_5_Convolution_For_MNIST.ipynb\" target=\"_parent\"><img src=\"https://colab.research.google.com/assets/colab-badge.svg\" alt=\"Open In Colab\"/></a>"
   ]
  },
  {
   "cell_type": "markdown",
   "metadata": {
    "id": "t9vk9Elugvmi"
   },
   "source": [
    "# **Notebook 10.5: Convolution for MNIST**\n",
    "\n",
    "This notebook builds a proper network for 2D convolution.  It works with the MNIST dataset (figure 15.15a), which was the original classic dataset for classifying images.  The network will take a 28x28 grayscale image and classify it into one of 10 classes representing a digit.\n",
    "\n",
    "The code is adapted from https://nextjournal.com/gkoehler/pytorch-mnist\n",
    "\n",
    "Work through the cells below, running each cell in turn. In various places you will see the words \"TO DO\". Follow the instructions at these places and make predictions about what is going to happen or write code to complete the functions.\n",
    "\n",
    "Contact me at udlbookmail@gmail.com if you find any mistakes or have any suggestions.\n"
   ]
  },
  {
   "cell_type": "code",
   "execution_count": 1,
   "metadata": {
    "ExecuteTime": {
     "end_time": "2024-04-25T20:54:12.178946Z",
     "start_time": "2024-04-25T20:54:07.400657500Z"
    },
    "id": "YrXWAH7sUWvU"
   },
   "outputs": [],
   "source": [
    "import torch\n",
    "import torchvision\n",
    "import torch.nn as nn\n",
    "import torch.nn.functional as F\n",
    "import torch.optim as optim\n",
    "import matplotlib.pyplot as plt\n",
    "import random\n",
    "\n",
    "import warnings\n",
    "warnings.filterwarnings('ignore')"
   ]
  },
  {
   "cell_type": "code",
   "execution_count": 2,
   "metadata": {
    "ExecuteTime": {
     "end_time": "2024-04-25T20:54:12.240945100Z",
     "start_time": "2024-04-25T20:54:12.181946Z"
    },
    "id": "wScBGXXFVadm"
   },
   "outputs": [],
   "source": [
    "# Run this once to load the train and test data straight into a dataloader class\n",
    "# that will provide the batches\n",
    "batch_size_train = 64\n",
    "batch_size_test = 1000\n",
    "train_loader = torch.utils.data.DataLoader(\n",
    "  torchvision.datasets.MNIST('/files/', train=True, download=True,\n",
    "                             transform=torchvision.transforms.Compose([\n",
    "                               torchvision.transforms.ToTensor(),\n",
    "                               torchvision.transforms.Normalize(\n",
    "                                 (0.1307,), (0.3081,))\n",
    "                             ])),\n",
    "  batch_size=batch_size_train, shuffle=True)\n",
    "\n",
    "test_loader = torch.utils.data.DataLoader(\n",
    "  torchvision.datasets.MNIST('/files/', train=False, download=True,\n",
    "                             transform=torchvision.transforms.Compose([\n",
    "                               torchvision.transforms.ToTensor(),\n",
    "                               torchvision.transforms.Normalize(\n",
    "                                 (0.1307,), (0.3081,))\n",
    "                             ])),\n",
    "  batch_size=batch_size_test, shuffle=True)"
   ]
  },
  {
   "cell_type": "code",
   "execution_count": 3,
   "metadata": {
    "ExecuteTime": {
     "end_time": "2024-04-25T20:54:12.700521800Z",
     "start_time": "2024-04-25T20:54:12.243946Z"
    },
    "id": "8bKADvLHbiV5"
   },
   "outputs": [
    {
     "data": {
      "image/png": "[encoded data removed]",
      "text/plain": [
       "<Figure size 640x480 with 6 Axes>"
      ]
     },
     "metadata": {},
     "output_type": "display_data"
    }
   ],
   "source": [
    "# Let's draw some of the training data\n",
    "examples = enumerate(test_loader)\n",
    "batch_idx, (example_data, example_targets) = next(examples)\n",
    "\n",
    "fig = plt.figure()\n",
    "for i in range(6):\n",
    "  plt.subplot(2,3,i+1)\n",
    "  plt.tight_layout()\n",
    "  plt.imshow(example_data[i][0], cmap='gray', interpolation='none')\n",
    "  plt.title(\"Ground Truth: {}\".format(example_targets[i]))\n",
    "  plt.xticks([])\n",
    "  plt.yticks([])\n",
    "plt.show()"
   ]
  },
  {
   "cell_type": "markdown",
   "metadata": {
    "id": "_sFvRDGrl4qe"
   },
   "source": [
    "Define the network.  This is a more typical way to define a network than the sequential structure.  We define a class for the network, and define the parameters in the constructor.  Then we use a function called forward to actually run the network.  It's easy to see how you might use residual connections in this format."
   ]
  },
  {
   "cell_type": "code",
   "execution_count": 4,
   "metadata": {
    "ExecuteTime": {
     "end_time": "2024-04-25T20:54:12.704520600Z",
     "start_time": "2024-04-25T20:54:12.701981100Z"
    },
    "id": "EQkvw2KOPVl7"
   },
   "outputs": [],
   "source": [
    "from os import X_OK\n",
    "# TODO Change this class to implement\n",
    "# 1. A valid convolution with kernel size 5, 1 input channel and 10 output channels\n",
    "# 2. A max pooling operation over a 2x2 area\n",
    "# 3. A Relu\n",
    "# 4. A valid convolution with kernel size 5, 10 input channels and 20 output channels\n",
    "# 5. A 2D Dropout layer\n",
    "# 6. A max pooling operation over a 2x2 area\n",
    "# 7. A relu\n",
    "# 8. A flattening operation\n",
    "# 9. A fully connected layer mapping from (whatever dimensions we are at-- find out using .shape) to 50\n",
    "# 10. A ReLU\n",
    "# 11. A fully connected layer mapping from 50 to 10 dimensions\n",
    "# 12. A softmax function.\n",
    "\n",
    "# Replace this class which implements a minimal network (which still does okay)\n",
    "class Net(nn.Module):\n",
    "    def __init__(self):\n",
    "        super(Net, self).__init__()\n",
    "        self.conv1 = nn.Conv2d(1, 10, kernel_size=5)\n",
    "        self.conv2 = nn.Conv2d(10, 20, kernel_size=5)\n",
    "        # Dropout for convolutions\n",
    "        self.drop = nn.Dropout2d()\n",
    "        # Fully connected layer\n",
    "        self.fc1 = nn.Linear(320, 50)\n",
    "        self.fc2 = nn.Linear(50, 10)\n",
    "\n",
    "    def forward(self, x):\n",
    "        x = self.conv1(x)  # (28 - 5)/1 + 1 = 24\n",
    "        x = F.max_pool2d(x,2) # (24 - 2) / 2 + 1 = 12\n",
    "        x = F.relu(x)  # 12\n",
    "        x = self.conv2(x)  # (12 - 5)/1 + 1 = 8\n",
    "        x = self.drop(x)  # 8\n",
    "        x = F.max_pool2d(x,2)  # (8-2)/2 + 1 = 4\n",
    "        x = F.relu(x)  # 4\n",
    "        x = x.flatten(1)  # 20 * 4 * 4 = 320, but the first dimen is probably batch size\n",
    "        x = self.fc1(x) # (batch_size, 320)\n",
    "        x = F.relu(x)  # batch, 50\n",
    "        x = self.fc2(x) # batch, 10\n",
    "        x = F.log_softmax(x) # batch, 10\n",
    "        return x\n",
    "\n",
    "\n",
    "\n",
    "\n"
   ]
  },
  {
   "cell_type": "code",
   "execution_count": 5,
   "metadata": {
    "ExecuteTime": {
     "end_time": "2024-04-25T20:54:12.715419900Z",
     "start_time": "2024-04-25T20:54:12.706522600Z"
    },
    "id": "qWZtkCZcU_dg"
   },
   "outputs": [],
   "source": [
    "# He initialization of weights\n",
    "def weights_init(layer_in):\n",
    "  if isinstance(layer_in, nn.Linear):\n",
    "    nn.init.kaiming_uniform_(layer_in.weight)\n",
    "    layer_in.bias.data.fill_(0.0)"
   ]
  },
  {
   "cell_type": "code",
   "execution_count": 6,
   "metadata": {
    "ExecuteTime": {
     "end_time": "2024-04-25T20:54:12.739470900Z",
     "start_time": "2024-04-25T20:54:12.712418300Z"
    },
    "id": "FslroPJJffrh"
   },
   "outputs": [],
   "source": [
    "# Create network\n",
    "model = Net()\n",
    "# Initialize model weights\n",
    "model.apply(weights_init)\n",
    "# Define optimizer\n",
    "optimizer = optim.SGD(model.parameters(), lr=0.01, momentum=0.5)"
   ]
  },
  {
   "cell_type": "code",
   "execution_count": 7,
   "metadata": {
    "ExecuteTime": {
     "end_time": "2024-04-25T20:54:12.739470900Z",
     "start_time": "2024-04-25T20:54:12.720877300Z"
    },
    "id": "xKQd9PzkQ766"
   },
   "outputs": [],
   "source": [
    "# Main training routine\n",
    "def train(epoch):\n",
    "  model.train()\n",
    "  # Get each\n",
    "  for batch_idx, (data, target) in enumerate(train_loader):\n",
    "    optimizer.zero_grad()\n",
    "    output = model(data)\n",
    "    loss = F.nll_loss(output, target)\n",
    "    loss.backward()\n",
    "    optimizer.step()\n",
    "    # Store results\n",
    "    if batch_idx % 10 == 0:\n",
    "      print('Train Epoch: {} [{}/{}]\\tLoss: {:.6f}'.format(\n",
    "        epoch, batch_idx * len(data), len(train_loader.dataset), loss.item()))"
   ]
  },
  {
   "cell_type": "code",
   "execution_count": 8,
   "metadata": {
    "ExecuteTime": {
     "end_time": "2024-04-25T20:54:12.739470900Z",
     "start_time": "2024-04-25T20:54:12.725580200Z"
    },
    "id": "Byn-f7qWRLxX"
   },
   "outputs": [],
   "source": [
    "# Run on test data\n",
    "def test():\n",
    "  model.eval()\n",
    "  test_loss = 0\n",
    "  correct = 0\n",
    "  with torch.no_grad():\n",
    "    for data, target in test_loader:\n",
    "      output = model(data)\n",
    "      test_loss += F.nll_loss(output, target, size_average=False).item()\n",
    "      pred = output.data.max(1, keepdim=True)[1]\n",
    "      correct += pred.eq(target.data.view_as(pred)).sum()\n",
    "  test_loss /= len(test_loader.dataset)\n",
    "  print('\\nTest set: Avg. loss: {:.4f}, Accuracy: {}/{} ({:.0f}%)\\n'.format(\n",
    "    test_loss, correct, len(test_loader.dataset),\n",
    "    100. * correct / len(test_loader.dataset)))"
   ]
  },
  {
   "cell_type": "code",
   "execution_count": 10,
   "metadata": {
    "ExecuteTime": {
     "end_time": "2024-04-25T20:55:05.134176300Z",
     "start_time": "2024-04-25T20:54:12.729470700Z"
    },
    "id": "YgLaex1pfhqz"
   },
   "outputs": [
    {
     "name": "stdout",
     "output_type": "stream",
     "text": [
      "\n",
      "Test set: Avg. loss: 2.4140, Accuracy: 1018/10000 (10%)\n",
      "\n",
      "Train Epoch: 1 [0/60000]\tLoss: 2.366963\n",
      "Train Epoch: 1 [640/60000]\tLoss: 2.340430\n",
      "Train Epoch: 1 [1280/60000]\tLoss: 2.187203\n",
      "Train Epoch: 1 [1920/60000]\tLoss: 2.108720\n",
      "Train Epoch: 1 [2560/60000]\tLoss: 2.081545\n",
      "Train Epoch: 1 [3200/60000]\tLoss: 1.911529\n",
      "Train Epoch: 1 [3840/60000]\tLoss: 1.528608\n",
      "Train Epoch: 1 [4480/60000]\tLoss: 1.469154\n",
      "Train Epoch: 1 [5120/60000]\tLoss: 1.391518\n",
      "Train Epoch: 1 [5760/60000]\tLoss: 1.122711\n",
      "Train Epoch: 1 [6400/60000]\tLoss: 1.041071\n",
      "Train Epoch: 1 [7040/60000]\tLoss: 0.859918\n",
      "Train Epoch: 1 [7680/60000]\tLoss: 0.855718\n",
      "Train Epoch: 1 [8320/60000]\tLoss: 0.716742\n",
      "Train Epoch: 1 [8960/60000]\tLoss: 0.705298\n",
      "Train Epoch: 1 [9600/60000]\tLoss: 0.973965\n",
      "Train Epoch: 1 [10240/60000]\tLoss: 0.608886\n",
      "Train Epoch: 1 [10880/60000]\tLoss: 0.998353\n",
      "Train Epoch: 1 [11520/60000]\tLoss: 0.648269\n",
      "Train Epoch: 1 [12160/60000]\tLoss: 0.426150\n",
      "Train Epoch: 1 [12800/60000]\tLoss: 0.447730\n",
      "Train Epoch: 1 [13440/60000]\tLoss: 0.339211\n",
      "Train Epoch: 1 [14080/60000]\tLoss: 0.403162\n",
      "Train Epoch: 1 [14720/60000]\tLoss: 0.519510\n",
      "Train Epoch: 1 [15360/60000]\tLoss: 0.508615\n",
      "Train Epoch: 1 [16000/60000]\tLoss: 0.455825\n",
      "Train Epoch: 1 [16640/60000]\tLoss: 0.717079\n",
      "Train Epoch: 1 [17280/60000]\tLoss: 0.621528\n",
      "Train Epoch: 1 [17920/60000]\tLoss: 0.349222\n",
      "Train Epoch: 1 [18560/60000]\tLoss: 0.609135\n",
      "Train Epoch: 1 [19200/60000]\tLoss: 0.382834\n",
      "Train Epoch: 1 [19840/60000]\tLoss: 0.356716\n",
      "Train Epoch: 1 [20480/60000]\tLoss: 0.366821\n",
      "Train Epoch: 1 [21120/60000]\tLoss: 0.261499\n",
      "Train Epoch: 1 [21760/60000]\tLoss: 0.541804\n",
      "Train Epoch: 1 [22400/60000]\tLoss: 0.565747\n",
      "Train Epoch: 1 [23040/60000]\tLoss: 0.316304\n",
      "Train Epoch: 1 [23680/60000]\tLoss: 0.255158\n",
      "Train Epoch: 1 [24320/60000]\tLoss: 0.285551\n",
      "Train Epoch: 1 [24960/60000]\tLoss: 0.364656\n",
      "Train Epoch: 1 [25600/60000]\tLoss: 0.315875\n",
      "Train Epoch: 1 [26240/60000]\tLoss: 0.305848\n",
      "Train Epoch: 1 [26880/60000]\tLoss: 0.309220\n",
      "Train Epoch: 1 [27520/60000]\tLoss: 0.231821\n",
      "Train Epoch: 1 [28160/60000]\tLoss: 0.271485\n",
      "Train Epoch: 1 [28800/60000]\tLoss: 0.475552\n",
      "Train Epoch: 1 [29440/60000]\tLoss: 0.551955\n",
      "Train Epoch: 1 [30080/60000]\tLoss: 0.499041\n",
      "Train Epoch: 1 [30720/60000]\tLoss: 0.180770\n",
      "Train Epoch: 1 [31360/60000]\tLoss: 0.227152\n",
      "Train Epoch: 1 [32000/60000]\tLoss: 0.223826\n",
      "Train Epoch: 1 [32640/60000]\tLoss: 0.228715\n",
      "Train Epoch: 1 [33280/60000]\tLoss: 0.124649\n",
      "Train Epoch: 1 [33920/60000]\tLoss: 0.217040\n",
      "Train Epoch: 1 [34560/60000]\tLoss: 0.219669\n",
      "Train Epoch: 1 [35200/60000]\tLoss: 0.379100\n",
      "Train Epoch: 1 [35840/60000]\tLoss: 0.401699\n",
      "Train Epoch: 1 [36480/60000]\tLoss: 0.292112\n",
      "Train Epoch: 1 [37120/60000]\tLoss: 0.289729\n",
      "Train Epoch: 1 [37760/60000]\tLoss: 0.304078\n",
      "Train Epoch: 1 [38400/60000]\tLoss: 0.269310\n",
      "Train Epoch: 1 [39040/60000]\tLoss: 0.274303\n",
      "Train Epoch: 1 [39680/60000]\tLoss: 0.290988\n",
      "Train Epoch: 1 [40320/60000]\tLoss: 0.355349\n",
      "Train Epoch: 1 [40960/60000]\tLoss: 0.517755\n",
      "Train Epoch: 1 [41600/60000]\tLoss: 0.210386\n",
      "Train Epoch: 1 [42240/60000]\tLoss: 0.164854\n",
      "Train Epoch: 1 [42880/60000]\tLoss: 0.497340\n",
      "Train Epoch: 1 [43520/60000]\tLoss: 0.188930\n",
      "Train Epoch: 1 [44160/60000]\tLoss: 0.189347\n",
      "Train Epoch: 1 [44800/60000]\tLoss: 0.166010\n",
      "Train Epoch: 1 [45440/60000]\tLoss: 0.238760\n",
      "Train Epoch: 1 [46080/60000]\tLoss: 0.542584\n",
      "Train Epoch: 1 [46720/60000]\tLoss: 0.200074\n",
      "Train Epoch: 1 [47360/60000]\tLoss: 0.316300\n",
      "Train Epoch: 1 [48000/60000]\tLoss: 0.288685\n",
      "Train Epoch: 1 [48640/60000]\tLoss: 0.165724\n",
      "Train Epoch: 1 [49280/60000]\tLoss: 0.357116\n",
      "Train Epoch: 1 [49920/60000]\tLoss: 0.235613\n",
      "Train Epoch: 1 [50560/60000]\tLoss: 0.352066\n",
      "Train Epoch: 1 [51200/60000]\tLoss: 0.273550\n",
      "Train Epoch: 1 [51840/60000]\tLoss: 0.204626\n",
      "Train Epoch: 1 [52480/60000]\tLoss: 0.326735\n",
      "Train Epoch: 1 [53120/60000]\tLoss: 0.404333\n",
      "Train Epoch: 1 [53760/60000]\tLoss: 0.076472\n",
      "Train Epoch: 1 [54400/60000]\tLoss: 0.170551\n",
      "Train Epoch: 1 [55040/60000]\tLoss: 0.314125\n",
      "Train Epoch: 1 [55680/60000]\tLoss: 0.149190\n",
      "Train Epoch: 1 [56320/60000]\tLoss: 0.104783\n",
      "Train Epoch: 1 [56960/60000]\tLoss: 0.238216\n",
      "Train Epoch: 1 [57600/60000]\tLoss: 0.357807\n",
      "Train Epoch: 1 [58240/60000]\tLoss: 0.151680\n",
      "Train Epoch: 1 [58880/60000]\tLoss: 0.335180\n",
      "Train Epoch: 1 [59520/60000]\tLoss: 0.351947\n",
      "\n",
      "Test set: Avg. loss: 0.1263, Accuracy: 9621/10000 (96%)\n",
      "\n",
      "Train Epoch: 2 [0/60000]\tLoss: 0.203650\n",
      "Train Epoch: 2 [640/60000]\tLoss: 0.236063\n",
      "Train Epoch: 2 [1280/60000]\tLoss: 0.267227\n",
      "Train Epoch: 2 [1920/60000]\tLoss: 0.165799\n",
      "Train Epoch: 2 [2560/60000]\tLoss: 0.316246\n",
      "Train Epoch: 2 [3200/60000]\tLoss: 0.179526\n",
      "Train Epoch: 2 [3840/60000]\tLoss: 0.173246\n",
      "Train Epoch: 2 [4480/60000]\tLoss: 0.122281\n",
      "Train Epoch: 2 [5120/60000]\tLoss: 0.296694\n",
      "Train Epoch: 2 [5760/60000]\tLoss: 0.214178\n",
      "Train Epoch: 2 [6400/60000]\tLoss: 0.247665\n",
      "Train Epoch: 2 [7040/60000]\tLoss: 0.172521\n",
      "Train Epoch: 2 [7680/60000]\tLoss: 0.392981\n",
      "Train Epoch: 2 [8320/60000]\tLoss: 0.114660\n",
      "Train Epoch: 2 [8960/60000]\tLoss: 0.138179\n",
      "Train Epoch: 2 [9600/60000]\tLoss: 0.117079\n",
      "Train Epoch: 2 [10240/60000]\tLoss: 0.174930\n",
      "Train Epoch: 2 [10880/60000]\tLoss: 0.397455\n",
      "Train Epoch: 2 [11520/60000]\tLoss: 0.163891\n",
      "Train Epoch: 2 [12160/60000]\tLoss: 0.498589\n",
      "Train Epoch: 2 [12800/60000]\tLoss: 0.259173\n",
      "Train Epoch: 2 [13440/60000]\tLoss: 0.135063\n",
      "Train Epoch: 2 [14080/60000]\tLoss: 0.101316\n",
      "Train Epoch: 2 [14720/60000]\tLoss: 0.136035\n",
      "Train Epoch: 2 [15360/60000]\tLoss: 0.110468\n",
      "Train Epoch: 2 [16000/60000]\tLoss: 0.068030\n",
      "Train Epoch: 2 [16640/60000]\tLoss: 0.216646\n",
      "Train Epoch: 2 [17280/60000]\tLoss: 0.322781\n",
      "Train Epoch: 2 [17920/60000]\tLoss: 0.162376\n",
      "Train Epoch: 2 [18560/60000]\tLoss: 0.190204\n",
      "Train Epoch: 2 [19200/60000]\tLoss: 0.120954\n",
      "Train Epoch: 2 [19840/60000]\tLoss: 0.090101\n",
      "Train Epoch: 2 [20480/60000]\tLoss: 0.154040\n",
      "Train Epoch: 2 [21120/60000]\tLoss: 0.085009\n",
      "Train Epoch: 2 [21760/60000]\tLoss: 0.308584\n",
      "Train Epoch: 2 [22400/60000]\tLoss: 0.095075\n",
      "Train Epoch: 2 [23040/60000]\tLoss: 0.338689\n",
      "Train Epoch: 2 [23680/60000]\tLoss: 0.143148\n",
      "Train Epoch: 2 [24320/60000]\tLoss: 0.103923\n",
      "Train Epoch: 2 [24960/60000]\tLoss: 0.277187\n",
      "Train Epoch: 2 [25600/60000]\tLoss: 0.181272\n",
      "Train Epoch: 2 [26240/60000]\tLoss: 0.106394\n",
      "Train Epoch: 2 [26880/60000]\tLoss: 0.079058\n",
      "Train Epoch: 2 [27520/60000]\tLoss: 0.101943\n",
      "Train Epoch: 2 [28160/60000]\tLoss: 0.289417\n",
      "Train Epoch: 2 [28800/60000]\tLoss: 0.307516\n",
      "Train Epoch: 2 [29440/60000]\tLoss: 0.103943\n",
      "Train Epoch: 2 [30080/60000]\tLoss: 0.343864\n",
      "Train Epoch: 2 [30720/60000]\tLoss: 0.201791\n",
      "Train Epoch: 2 [31360/60000]\tLoss: 0.110885\n",
      "Train Epoch: 2 [32000/60000]\tLoss: 0.100116\n",
      "Train Epoch: 2 [32640/60000]\tLoss: 0.135859\n",
      "Train Epoch: 2 [33280/60000]\tLoss: 0.333078\n",
      "Train Epoch: 2 [33920/60000]\tLoss: 0.223148\n",
      "Train Epoch: 2 [34560/60000]\tLoss: 0.402108\n",
      "Train Epoch: 2 [35200/60000]\tLoss: 0.303261\n",
      "Train Epoch: 2 [35840/60000]\tLoss: 0.143808\n",
      "Train Epoch: 2 [36480/60000]\tLoss: 0.232197\n",
      "Train Epoch: 2 [37120/60000]\tLoss: 0.190115\n",
      "Train Epoch: 2 [37760/60000]\tLoss: 0.037362\n",
      "Train Epoch: 2 [38400/60000]\tLoss: 0.130533\n",
      "Train Epoch: 2 [39040/60000]\tLoss: 0.163378\n",
      "Train Epoch: 2 [39680/60000]\tLoss: 0.210511\n",
      "Train Epoch: 2 [40320/60000]\tLoss: 0.126125\n",
      "Train Epoch: 2 [40960/60000]\tLoss: 0.088100\n",
      "Train Epoch: 2 [41600/60000]\tLoss: 0.061104\n",
      "Train Epoch: 2 [42240/60000]\tLoss: 0.233340\n",
      "Train Epoch: 2 [42880/60000]\tLoss: 0.047571\n",
      "Train Epoch: 2 [43520/60000]\tLoss: 0.206160\n",
      "Train Epoch: 2 [44160/60000]\tLoss: 0.154680\n",
      "Train Epoch: 2 [44800/60000]\tLoss: 0.155115\n",
      "Train Epoch: 2 [45440/60000]\tLoss: 0.321240\n",
      "Train Epoch: 2 [46080/60000]\tLoss: 0.211792\n",
      "Train Epoch: 2 [46720/60000]\tLoss: 0.170631\n",
      "Train Epoch: 2 [47360/60000]\tLoss: 0.212693\n",
      "Train Epoch: 2 [48000/60000]\tLoss: 0.434172\n",
      "Train Epoch: 2 [48640/60000]\tLoss: 0.070538\n",
      "Train Epoch: 2 [49280/60000]\tLoss: 0.115201\n",
      "Train Epoch: 2 [49920/60000]\tLoss: 0.155750\n",
      "Train Epoch: 2 [50560/60000]\tLoss: 0.214517\n",
      "Train Epoch: 2 [51200/60000]\tLoss: 0.394819\n",
      "Train Epoch: 2 [51840/60000]\tLoss: 0.326441\n",
      "Train Epoch: 2 [52480/60000]\tLoss: 0.281347\n",
      "Train Epoch: 2 [53120/60000]\tLoss: 0.103967\n",
      "Train Epoch: 2 [53760/60000]\tLoss: 0.211930\n",
      "Train Epoch: 2 [54400/60000]\tLoss: 0.122161\n",
      "Train Epoch: 2 [55040/60000]\tLoss: 0.142231\n",
      "Train Epoch: 2 [55680/60000]\tLoss: 0.162050\n",
      "Train Epoch: 2 [56320/60000]\tLoss: 0.115304\n",
      "Train Epoch: 2 [56960/60000]\tLoss: 0.104170\n",
      "Train Epoch: 2 [57600/60000]\tLoss: 0.047363\n",
      "Train Epoch: 2 [58240/60000]\tLoss: 0.044431\n",
      "Train Epoch: 2 [58880/60000]\tLoss: 0.093461\n",
      "Train Epoch: 2 [59520/60000]\tLoss: 0.227931\n",
      "\n",
      "Test set: Avg. loss: 0.0835, Accuracy: 9733/10000 (97%)\n",
      "\n",
      "Train Epoch: 3 [0/60000]\tLoss: 0.122438\n",
      "Train Epoch: 3 [640/60000]\tLoss: 0.196741\n",
      "Train Epoch: 3 [1280/60000]\tLoss: 0.147432\n",
      "Train Epoch: 3 [1920/60000]\tLoss: 0.154449\n",
      "Train Epoch: 3 [2560/60000]\tLoss: 0.093343\n",
      "Train Epoch: 3 [3200/60000]\tLoss: 0.148587\n",
      "Train Epoch: 3 [3840/60000]\tLoss: 0.056728\n",
      "Train Epoch: 3 [4480/60000]\tLoss: 0.158730\n",
      "Train Epoch: 3 [5120/60000]\tLoss: 0.135470\n",
      "Train Epoch: 3 [5760/60000]\tLoss: 0.276656\n",
      "Train Epoch: 3 [6400/60000]\tLoss: 0.166588\n",
      "Train Epoch: 3 [7040/60000]\tLoss: 0.254172\n",
      "Train Epoch: 3 [7680/60000]\tLoss: 0.129652\n",
      "Train Epoch: 3 [8320/60000]\tLoss: 0.046357\n",
      "Train Epoch: 3 [8960/60000]\tLoss: 0.165874\n",
      "Train Epoch: 3 [9600/60000]\tLoss: 0.031056\n",
      "Train Epoch: 3 [10240/60000]\tLoss: 0.209529\n",
      "Train Epoch: 3 [10880/60000]\tLoss: 0.156994\n",
      "Train Epoch: 3 [11520/60000]\tLoss: 0.306303\n",
      "Train Epoch: 3 [12160/60000]\tLoss: 0.089880\n",
      "Train Epoch: 3 [12800/60000]\tLoss: 0.182204\n",
      "Train Epoch: 3 [13440/60000]\tLoss: 0.126991\n",
      "Train Epoch: 3 [14080/60000]\tLoss: 0.108422\n",
      "Train Epoch: 3 [14720/60000]\tLoss: 0.354845\n",
      "Train Epoch: 3 [15360/60000]\tLoss: 0.063736\n",
      "Train Epoch: 3 [16000/60000]\tLoss: 0.128190\n",
      "Train Epoch: 3 [16640/60000]\tLoss: 0.080778\n",
      "Train Epoch: 3 [17280/60000]\tLoss: 0.186758\n",
      "Train Epoch: 3 [17920/60000]\tLoss: 0.042300\n",
      "Train Epoch: 3 [18560/60000]\tLoss: 0.347866\n",
      "Train Epoch: 3 [19200/60000]\tLoss: 0.148222\n",
      "Train Epoch: 3 [19840/60000]\tLoss: 0.353771\n",
      "Train Epoch: 3 [20480/60000]\tLoss: 0.156216\n",
      "Train Epoch: 3 [21120/60000]\tLoss: 0.209149\n",
      "Train Epoch: 3 [21760/60000]\tLoss: 0.059558\n",
      "Train Epoch: 3 [22400/60000]\tLoss: 0.357995\n",
      "Train Epoch: 3 [23040/60000]\tLoss: 0.135062\n",
      "Train Epoch: 3 [23680/60000]\tLoss: 0.210927\n",
      "Train Epoch: 3 [24320/60000]\tLoss: 0.059409\n",
      "Train Epoch: 3 [24960/60000]\tLoss: 0.119903\n",
      "Train Epoch: 3 [25600/60000]\tLoss: 0.166358\n",
      "Train Epoch: 3 [26240/60000]\tLoss: 0.092091\n",
      "Train Epoch: 3 [26880/60000]\tLoss: 0.147095\n",
      "Train Epoch: 3 [27520/60000]\tLoss: 0.136192\n",
      "Train Epoch: 3 [28160/60000]\tLoss: 0.037853\n",
      "Train Epoch: 3 [28800/60000]\tLoss: 0.093103\n",
      "Train Epoch: 3 [29440/60000]\tLoss: 0.115730\n",
      "Train Epoch: 3 [30080/60000]\tLoss: 0.179082\n",
      "Train Epoch: 3 [30720/60000]\tLoss: 0.223749\n",
      "Train Epoch: 3 [31360/60000]\tLoss: 0.159764\n",
      "Train Epoch: 3 [32000/60000]\tLoss: 0.192802\n",
      "Train Epoch: 3 [32640/60000]\tLoss: 0.196420\n",
      "Train Epoch: 3 [33280/60000]\tLoss: 0.067404\n",
      "Train Epoch: 3 [33920/60000]\tLoss: 0.109438\n",
      "Train Epoch: 3 [34560/60000]\tLoss: 0.158497\n",
      "Train Epoch: 3 [35200/60000]\tLoss: 0.105248\n",
      "Train Epoch: 3 [35840/60000]\tLoss: 0.169876\n",
      "Train Epoch: 3 [36480/60000]\tLoss: 0.295416\n",
      "Train Epoch: 3 [37120/60000]\tLoss: 0.102930\n",
      "Train Epoch: 3 [37760/60000]\tLoss: 0.239219\n",
      "Train Epoch: 3 [38400/60000]\tLoss: 0.142817\n",
      "Train Epoch: 3 [39040/60000]\tLoss: 0.320965\n",
      "Train Epoch: 3 [39680/60000]\tLoss: 0.086797\n",
      "Train Epoch: 3 [40320/60000]\tLoss: 0.074322\n",
      "Train Epoch: 3 [40960/60000]\tLoss: 0.240571\n",
      "Train Epoch: 3 [41600/60000]\tLoss: 0.107393\n",
      "Train Epoch: 3 [42240/60000]\tLoss: 0.201118\n",
      "Train Epoch: 3 [42880/60000]\tLoss: 0.211636\n",
      "Train Epoch: 3 [43520/60000]\tLoss: 0.079492\n",
      "Train Epoch: 3 [44160/60000]\tLoss: 0.146599\n",
      "Train Epoch: 3 [44800/60000]\tLoss: 0.121531\n",
      "Train Epoch: 3 [45440/60000]\tLoss: 0.121651\n",
      "Train Epoch: 3 [46080/60000]\tLoss: 0.056121\n",
      "Train Epoch: 3 [46720/60000]\tLoss: 0.080572\n",
      "Train Epoch: 3 [47360/60000]\tLoss: 0.166624\n",
      "Train Epoch: 3 [48000/60000]\tLoss: 0.255052\n",
      "Train Epoch: 3 [48640/60000]\tLoss: 0.153722\n",
      "Train Epoch: 3 [49280/60000]\tLoss: 0.174268\n",
      "Train Epoch: 3 [49920/60000]\tLoss: 0.085094\n",
      "Train Epoch: 3 [50560/60000]\tLoss: 0.037133\n",
      "Train Epoch: 3 [51200/60000]\tLoss: 0.125998\n",
      "Train Epoch: 3 [51840/60000]\tLoss: 0.122674\n",
      "Train Epoch: 3 [52480/60000]\tLoss: 0.308351\n",
      "Train Epoch: 3 [53120/60000]\tLoss: 0.027179\n",
      "Train Epoch: 3 [53760/60000]\tLoss: 0.078825\n",
      "Train Epoch: 3 [54400/60000]\tLoss: 0.113139\n",
      "Train Epoch: 3 [55040/60000]\tLoss: 0.218217\n",
      "Train Epoch: 3 [55680/60000]\tLoss: 0.074043\n",
      "Train Epoch: 3 [56320/60000]\tLoss: 0.214545\n",
      "Train Epoch: 3 [56960/60000]\tLoss: 0.092111\n",
      "Train Epoch: 3 [57600/60000]\tLoss: 0.035171\n",
      "Train Epoch: 3 [58240/60000]\tLoss: 0.148481\n",
      "Train Epoch: 3 [58880/60000]\tLoss: 0.061237\n",
      "Train Epoch: 3 [59520/60000]\tLoss: 0.111461\n",
      "\n",
      "Test set: Avg. loss: 0.0666, Accuracy: 9779/10000 (98%)\n",
      "\n"
     ]
    }
   ],
   "source": [
    "# Get initial performance\n",
    "test()\n",
    "# Train for three epochs\n",
    "n_epochs = 3\n",
    "for epoch in range(1, n_epochs + 1):\n",
    "  train(epoch)\n",
    "  test()"
   ]
  },
  {
   "cell_type": "code",
   "execution_count": 11,
   "metadata": {
    "ExecuteTime": {
     "end_time": "2024-04-25T20:55:05.603987Z",
     "start_time": "2024-04-25T20:55:05.129838400Z"
    },
    "id": "o7fRUAy9Se1B"
   },
   "outputs": [
    {
     "data": {
      "image/png": "[encoded data removed]",
      "text/plain": [
       "<Figure size 640x480 with 10 Axes>"
      ]
     },
     "metadata": {},
     "output_type": "display_data"
    }
   ],
   "source": [
    "# Run network on data we got before and show predictions\n",
    "output = model(example_data)\n",
    "\n",
    "fig = plt.figure()\n",
    "for i in range(10):\n",
    "  plt.subplot(5,5,i+1)\n",
    "  plt.tight_layout()\n",
    "  plt.imshow(example_data[i][0], cmap='gray', interpolation='none')\n",
    "  plt.title(\"Prediction: {}\".format(\n",
    "    output.data.max(1, keepdim=True)[1][i].item()))\n",
    "  plt.xticks([])\n",
    "  plt.yticks([])\n",
    "plt.show()"
   ]
  }
 ],
 "metadata": {
  "colab": {
   "authorship_tag": "ABX9TyNAcc98STMeyQgh9SbVHWG+",
   "include_colab_link": true,
   "provenance": []
  },
  "kernelspec": {
   "display_name": ".venv",
   "language": "python",
   "name": "python3"
  },
  "language_info": {
   "codemirror_mode": {
    "name": "ipython",
    "version": 3
   },
   "file_extension": ".py",
   "mimetype": "text/x-python",
   "name": "python",
   "nbconvert_exporter": "python",
   "pygments_lexer": "ipython3",
   "version": "3.11.4"
  }
 },
 "nbformat": 4,
 "nbformat_minor": 0
}
